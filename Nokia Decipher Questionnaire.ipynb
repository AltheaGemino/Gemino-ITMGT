{
 "cells": [
  {
   "cell_type": "markdown",
   "id": "7ee1ebdf",
   "metadata": {},
   "source": [
    "# Nokia Code"
   ]
  },
  {
   "cell_type": "markdown",
   "id": "895908e2",
   "metadata": {},
   "source": [
    "Before, when smartphones were not touchscreen, typing out letters required the use of a physical keypad where users needed to press a number repeatedly until the letter they wanted showed up on-screen. \n",
    "\n",
    "Typing out a message such as \"HI\" would be pressing the keys: \"66-666\" \n",
    "\n",
    "This activity, you will decipher the numbered input to output the word that a user is trying to spell out. ^^\n",
    "\n",
    "\n"
   ]
  },
  {
   "cell_type": "markdown",
   "id": "45665a4d",
   "metadata": {},
   "source": [
    "#### You may use the given dictionary stored in the variable `data`. This shows the characters associated with the number in the keypad. "
   ]
  },
  {
   "cell_type": "code",
   "execution_count": 4,
   "id": "6cc13a23",
   "metadata": {},
   "outputs": [
    {
     "data": {
      "text/plain": [
       "{'2': 'ABC',\n",
       " '3': 'DEF',\n",
       " '4': 'GHI',\n",
       " '5': 'JKL',\n",
       " '6': 'MNO',\n",
       " '7': 'PQRS',\n",
       " '8': 'TUV',\n",
       " '9': 'WXYZ',\n",
       " '0': ' '}"
      ]
     },
     "execution_count": 4,
     "metadata": {},
     "output_type": "execute_result"
    }
   ],
   "source": [
    "data = {\n",
    " '2': 'ABC',\n",
    " '3': 'DEF',\n",
    " '4': 'GHI',\n",
    " '5': 'JKL',\n",
    " '6': 'MNO',\n",
    " '7': 'PQRS',\n",
    " '8': 'TUV',\n",
    " '9': 'WXYZ',\n",
    " '0': ' '\n",
    "}"
   ]
  },
  {
   "cell_type": "markdown",
   "id": "3003f7f4",
   "metadata": {},
   "source": [
    "#### 2. Create a function called `nokia_single`. This should accept a string of numbers called `num_string` pertaining to the nokia cipher. The output should be the text equivalent of the string of numbers.\n",
    "\n",
    "> *Assume that the input will always be a valid string to be ciphered.*<br><br>\n",
    "> *Assume that the returned value will just be a single character*\n",
    "\n",
    "<b>\n",
    "    \n",
    "| Function             | Expected Output |\n",
    "| ---:                 | :---:           | \n",
    "| nokia_single('2')    |'A'              |\n",
    "| nokia_single('77')   |'Q'              |\n",
    "| nokia_single('555')  |'L'              |\n",
    "| nokia_single('9999') |'Z'              |\n",
    "| nokia_single('0')    |' '              |\n",
    "    \n",
    "</b>"
   ]
  },
  {
   "cell_type": "code",
   "execution_count": null,
   "id": "bd132a13",
   "metadata": {},
   "outputs": [],
   "source": [
    "def nokia_single(num_string):\n",
    "    pass\n",
    "\n",
    "\n",
    "\n",
    "\n",
    "\n",
    "\n",
    "\n"
   ]
  },
  {
   "cell_type": "markdown",
   "id": "7c7a691e",
   "metadata": {},
   "source": [
    "#### 3. When a user clicks on a number too many times, it instead cycled to go back to the start. \n",
    "\n",
    "#### //Edit your function from 2a to account for this possibility. Name a new function called `nokia_cycle` which accepts a string of numbers called `num_string`. The output should be the text equivalent to the string of numbers.\n",
    "<br>\n",
    "\n",
    "> *Assume that the input will always be a valid string to be ciphered.* <br><br>\n",
    "> *Assume that the returned value will just be a single character*\n",
    "\n",
    "<b>\n",
    "    \n",
    "| Function             | Expected Output |\n",
    "| ---:                 | :---:           | \n",
    "| nokia_cycle('2222222222')    |'A'              |\n",
    "| nokia_cycle('777777')   |'Q'              |\n",
    "| nokia_cycle('555555')  |'L'              |\n",
    "| nokia_cycle('99999999') |'Z'              |\n",
    "| nokia_cycle('0')    |' '              |\n",
    "    \n",
    "</b>"
   ]
  },
  {
   "cell_type": "code",
   "execution_count": null,
   "id": "9fbbbe10",
   "metadata": {},
   "outputs": [],
   "source": [
    "def nokia_cycle(num_string):\n",
    "    pass\n",
    "\n",
    "\n",
    "\n",
    "\n",
    "\n",
    "\n",
    "\n"
   ]
  },
  {
   "cell_type": "markdown",
   "id": "922be912",
   "metadata": {},
   "source": [
    "#### 4. Words can contain letters from the same number — this will be denoted by having an asterisk in between letters \n",
    "#### (\"TV\" is \"8\\*888\" and \"MOM\" will be \"6\\*666\\*6\")"
   ]
  },
  {
   "cell_type": "markdown",
   "id": "720d7975",
   "metadata": {},
   "source": [
    "#### //Create a function called `nokia_long` which accepts a string of numbers (called `long_string`) which account for situations as presented above. Return the c orresponding letter output. \n",
    "\n",
    "> *Take note that this function should also take into account cases where the user cycled the input*\n",
    "\n",
    "<b>\n",
    "    \n",
    "| Function             | Expected Output |\n",
    "| ---:                      | :---:           | \n",
    "| nokia_long('2\\*22\\*222')    |'ABC'              |\n",
    "| nokia_long('33332677777')   |'DAMP'              |\n",
    "| nokia_long('63326\\*66677733') |'MEAMORE'              |\n",
    "| nokia_long('77778337\\*77770624\\*444222')    |'STEPS MAGIC'              |\n",
    "| nokia_long('777942022666\\*66642')    |'RWGA BOOGA'              |\n",
    "    \n",
    "</b>"
   ]
  },
  {
   "cell_type": "code",
   "execution_count": null,
   "id": "476d0db8",
   "metadata": {},
   "outputs": [],
   "source": [
    "def nokia_long(long_string):\n",
    "    pass\n",
    "\n",
    "\n",
    "\n",
    "\n",
    "\n",
    "\n",
    "\n"
   ]
  },
  {
   "cell_type": "markdown",
   "id": "c7124d14",
   "metadata": {},
   "source": [
    "#### 5. Nokia Cipher:\n",
    "#### Now, do the reverse. Given a text string, convert it into the numbered equivalent.\n",
    "\n",
    "#### //Create a function called `nokia_cipher` which accepts a text string (called `text_string`) and returns the equivalent string of numbers. \n",
    "\n",
    "<b>\n",
    "    \n",
    "| Function             | Expected Output |\n",
    "| ---:                      | :---:           | \n",
    "| nokia_cipher('ABC')    |'2\\*22\\*222'              |\n",
    "| nokia_cipher('DAMP')   |'3267'              |\n",
    "| nokia_cipher('MEAMORE') |'63326\\*66677733'              |\n",
    "| nokia_cipher('STEPS MAGIC')    |'77778337\\*77770624\\*444222'              |\n",
    "| nokia_cipher('RWGA BOOGA')    |'777942022666\\*66642'              |\n",
    "    \n",
    "</b>"
   ]
  },
  {
   "cell_type": "code",
   "execution_count": null,
   "id": "e6857332",
   "metadata": {},
   "outputs": [],
   "source": [
    "def nokia_cipher(text_string):\n",
    "    pass\n",
    "\n",
    "\n",
    "\n",
    "\n",
    "\n",
    "\n",
    "\n"
   ]
  },
  {
   "cell_type": "markdown",
   "id": "5e2805fd",
   "metadata": {},
   "source": [
    "# END"
   ]
  }
 ],
 "metadata": {
  "kernelspec": {
   "display_name": "Python 3 (ipykernel)",
   "language": "python",
   "name": "python3"
  },
  "language_info": {
   "codemirror_mode": {
    "name": "ipython",
    "version": 3
   },
   "file_extension": ".py",
   "mimetype": "text/x-python",
   "name": "python",
   "nbconvert_exporter": "python",
   "pygments_lexer": "ipython3",
   "version": "3.10.9"
  }
 },
 "nbformat": 4,
 "nbformat_minor": 5
}
